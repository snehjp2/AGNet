{
 "cells": [
  {
   "cell_type": "code",
   "execution_count": 2,
   "metadata": {},
   "outputs": [],
   "source": [
    "import pandas as pd\n",
    "import csv\n",
    "import numpy as np\n",
    "import matplotlib.pyplot as plt\n",
    "import os, sys"
   ]
  },
  {
   "cell_type": "markdown",
   "metadata": {},
   "source": [
    "Here we transform our raw light curve files from the University of Washington Catalog into 224x224 pixel numpy images.  These are fed into the convolutional neural network."
   ]
  },
  {
   "cell_type": "code",
   "execution_count": null,
   "metadata": {},
   "outputs": [],
   "source": [
    "# create folder to save images\n",
    "\n",
    "root_folder = \"../../data/numpy_images/\" \n",
    "if not os.path.exists(root_folder):\n",
    "    os.mkdir(root_folder)\n",
    "    \n",
    "# load light curve data    \n",
    "\n",
    "path = '../../data/QSO_S82/'\n",
    "files = os.listdir(path)\n",
    "\n",
    "### Read Light curve file\n",
    "\n",
    "for file_name in files:\n",
    "\n",
    "    with open(path + file_name,'r') as f:\n",
    "        next(f) # skip first row\n",
    "        df = pd.DataFrame(l.rstrip().split() for l in f)\n",
    "\n",
    "    ### convert str into numeric\n",
    "    \n",
    "    for i in range(14):\n",
    "        df[i] = pd.to_numeric(df[i], errors='ignore')\n",
    "\n",
    "    ### clean up anomalies for different bands\n",
    "    \n",
    "    df_u = df[(30>df[1]) & (df[1]>1)]\n",
    "    df_g = df[(30>df[4]) & (df[4]>1)]\n",
    "    df_r = df[(30>df[7]) & (df[7]>1)]\n",
    "    df_i = df[(30>df[10]) & (df[10]>1)]\n",
    "    df_z = df[(30>df[13]) & (df[13]>1)]\n",
    "\n",
    "    df = df[(30>df[1]) & (df[1]>1)]\n",
    "    df = df[(30>df[4]) & (df[4]>1)]\n",
    "    df = df[(30>df[7]) & (df[7]>1)]\n",
    "    df = df[(30>df[10]) & (df[10]>1)]\n",
    "    df = df[(30>df[13]) & (df[13]>1)]\n",
    "\n",
    "    ### generating data\n",
    "    Images = np.zeros((5, 3340)) # blank image\n",
    "    \n",
    "    # fill 5 channels\n",
    "    try:\n",
    "        u_data = round(df[0]) - round(df[0].iloc[0]) \n",
    "        g_data = round(df[3]) - round(df[0].iloc[0])\n",
    "        r_data = round(df[6]) - round(df[0].iloc[0])\n",
    "        i_data = round(df[9]) - round(df[0].iloc[0])\n",
    "        z_data = round(df[12]) - round(df[0].iloc[0])\n",
    "\n",
    "        for i, day in enumerate(u_data):\n",
    "            Images[0, int(day)] = 0\n",
    "            Images[0, int(day)] += df[1].iloc[i]\n",
    "\n",
    "        for i, day in enumerate(g_data):\n",
    "            Images[1, int(day)] = 0\n",
    "            Images[1, int(day)] += df[4].iloc[i]\n",
    "\n",
    "        for i, day in enumerate(r_data):\n",
    "            Images[2, int(day)] = 0\n",
    "            Images[2, int(day)] += df[7].iloc[i]\n",
    "\n",
    "        for i, day in enumerate(i_data):\n",
    "            Images[3, int(day)] = 0\n",
    "            Images[3, int(day)] += df[10].iloc[i]\n",
    "\n",
    "        for i, day in enumerate(z_data):\n",
    "            Images[4, int(day)] = 0\n",
    "            Images[4, int(day)] += df[13].iloc[i]\n",
    "   \n",
    "    except:\n",
    "        print(\"failed data, file:\", file_name) # for exceptions\n",
    "        pass\n",
    "\n",
    "    Images = np.clip(Images, 0, None) # remove anomalies (ugriz < 0)  \n",
    "\n",
    "    reshape_img = Images.reshape(167, 100)   # reshape image into 167X100\n",
    "\n",
    "    # padding zeros to make the 167X100 -> 224X224\n",
    "\n",
    "    Padding_images = np.zeros((224, 224))\n",
    "\n",
    "    Padding_images[:167, :100] = reshape_img\n",
    "    \n",
    "    np.save(root_folder + \"LC_images_{}.npy\".format(file_name), Padding_images)"
   ]
  },
  {
   "cell_type": "code",
   "execution_count": 9,
   "metadata": {},
   "outputs": [
    {
     "data": {
      "image/png": "[encoded data removed]",
      "text/plain": [
       "<Figure size 432x288 with 2 Axes>"
      ]
     },
     "metadata": {
      "needs_background": "light"
     },
     "output_type": "display_data"
    }
   ],
   "source": [
    "plt.imshow(Padding_images)\n",
    "plt.title(\"numpy image\")\n",
    "plt.clim(18,22)\n",
    "plt.colorbar()\n",
    "plt.show()"
   ]
  },
  {
   "cell_type": "markdown",
   "metadata": {},
   "source": [
    "All information from the associated light curve is encoded in these 2D numpy images.  Amongst the authors, we refer to these as the \"morse code\" images."
   ]
  },
  {
   "cell_type": "code",
   "execution_count": null,
   "metadata": {},
   "outputs": [],
   "source": []
  }
 ],
 "metadata": {
  "kernelspec": {
   "display_name": "Python 3",
   "language": "python",
   "name": "python3"
  },
  "language_info": {
   "codemirror_mode": {
    "name": "ipython",
    "version": 3
   },
   "file_extension": ".py",
   "mimetype": "text/x-python",
   "name": "python",
   "nbconvert_exporter": "python",
   "pygments_lexer": "ipython3",
   "version": "3.8.5"
  }
 },
 "nbformat": 4,
 "nbformat_minor": 4
}
