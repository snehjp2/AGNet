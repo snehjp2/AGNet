{
 "cells": [
  {
   "cell_type": "code",
   "execution_count": 1,
   "metadata": {},
   "outputs": [],
   "source": [
    "# importing packages\n",
    "import pandas as pd\n",
    "import matplotlib.pyplot as plt\n",
    "import os\n",
    "import numpy as np\n",
    "from astropy.coordinates import search_around_sky, SkyCoord\n",
    "from astropy import units as u\n",
    "from sklearn.model_selection import train_test_split\n",
    "pd.set_option('display.max_columns', 999)"
   ]
  },
  {
   "cell_type": "markdown",
   "metadata": {},
   "source": [
    "Here we match the Stripe 82 light curve data with the DR14 catalog which has the ground truth masses.  We use astropy SkyCoord function with a .5 arcsecond tolerance in matching."
   ]
  },
  {
   "cell_type": "code",
   "execution_count": 15,
   "metadata": {},
   "outputs": [],
   "source": [
    "# matching LC and mass data\n",
    "dr14_BH = pd.read_csv('../../data/dr14_BH.csv')\n",
    "dr14_LC = pd.read_csv('../../data/dr14_LC.csv')\n",
    "\n",
    "# quasar catalog redshift more reliable\n",
    "dr14_LC = dr14_LC.drop(columns=['z'])\n",
    "\n",
    "# Match data attributes in the 2 data sets using astropy's SkyCoord\n",
    "COORD1 = SkyCoord(dr14_BH['ra'], dr14_BH['dec'], frame='icrs', unit='deg')\n",
    "COORD2 = SkyCoord(dr14_LC['ra'], dr14_LC['dec'], frame='icrs', unit='deg')\n",
    "IDX1, IDX2, OTHER1, OTHER2 = search_around_sky(COORD1, COORD2, seplimit=0.5 * u.arcsec)\n",
    "\n",
    "# Generating columns for the matched\n",
    "X_TRAIN = []\n",
    "for i in range(len(IDX1)):\n",
    "    result = dr14_BH.iloc[IDX1[i]].append(dr14_LC.iloc[IDX2[i]])\n",
    "    X_TRAIN.append(result)\n",
    "X_TRAIN = pd.concat(X_TRAIN, axis=1)\n",
    "X_TRAIN = X_TRAIN.T\n",
    "\n",
    "X_TRAIN = X_TRAIN.loc[:, ~X_TRAIN.columns.str.contains('^Unnamed')]"
   ]
  },
  {
   "cell_type": "markdown",
   "metadata": {},
   "source": [
    "We can compare the RA/DEC values on a few rows to confirm that the data matching happened correctly."
   ]
  },
  {
   "cell_type": "code",
   "execution_count": 16,
   "metadata": {},
   "outputs": [
    {
     "data": {
      "text/html": [
       "<div>\n",
       "<style scoped>\n",
       "    .dataframe tbody tr th:only-of-type {\n",
       "        vertical-align: middle;\n",
       "    }\n",
       "\n",
       "    .dataframe tbody tr th {\n",
       "        vertical-align: top;\n",
       "    }\n",
       "\n",
       "    .dataframe thead th {\n",
       "        text-align: right;\n",
       "    }\n",
       "</style>\n",
       "<table border=\"1\" class=\"dataframe\">\n",
       "  <thead>\n",
       "    <tr style=\"text-align: right;\">\n",
       "      <th></th>\n",
       "      <th>ra</th>\n",
       "      <th>dec</th>\n",
       "      <th>Mass</th>\n",
       "      <th>z</th>\n",
       "      <th>ERR</th>\n",
       "      <th>M_i</th>\n",
       "      <th>train_id</th>\n",
       "      <th>ra</th>\n",
       "      <th>dec</th>\n",
       "      <th>u_band</th>\n",
       "      <th>g_band</th>\n",
       "      <th>r_band</th>\n",
       "      <th>i_band</th>\n",
       "      <th>z_band</th>\n",
       "      <th>ug</th>\n",
       "      <th>gr</th>\n",
       "      <th>ri</th>\n",
       "      <th>iz</th>\n",
       "      <th>zu</th>\n",
       "    </tr>\n",
       "  </thead>\n",
       "  <tbody>\n",
       "    <tr>\n",
       "      <th>0</th>\n",
       "      <td>0.0067823</td>\n",
       "      <td>0.583213</td>\n",
       "      <td>8.3602</td>\n",
       "      <td>2.2711</td>\n",
       "      <td>0.0553846</td>\n",
       "      <td>-24.2618</td>\n",
       "      <td>23207</td>\n",
       "      <td>0.00685539</td>\n",
       "      <td>0.583184</td>\n",
       "      <td>23.4436</td>\n",
       "      <td>22.2629</td>\n",
       "      <td>22.2395</td>\n",
       "      <td>22.1408</td>\n",
       "      <td>21.5903</td>\n",
       "      <td>1.18065</td>\n",
       "      <td>0.02345</td>\n",
       "      <td>0.09865</td>\n",
       "      <td>0.55052</td>\n",
       "      <td>-1.85327</td>\n",
       "    </tr>\n",
       "    <tr>\n",
       "      <th>1</th>\n",
       "      <td>3.0712</td>\n",
       "      <td>-0.910459</td>\n",
       "      <td>9.45313</td>\n",
       "      <td>3.602</td>\n",
       "      <td>0.0963988</td>\n",
       "      <td>-27.2103</td>\n",
       "      <td>26906</td>\n",
       "      <td>3.0712</td>\n",
       "      <td>-0.910459</td>\n",
       "      <td>28.658</td>\n",
       "      <td>20.9751</td>\n",
       "      <td>20.1096</td>\n",
       "      <td>20.0341</td>\n",
       "      <td>19.92</td>\n",
       "      <td>7.68294</td>\n",
       "      <td>0.86548</td>\n",
       "      <td>0.07549</td>\n",
       "      <td>0.11414</td>\n",
       "      <td>-8.73805</td>\n",
       "    </tr>\n",
       "    <tr>\n",
       "      <th>2</th>\n",
       "      <td>21.0685</td>\n",
       "      <td>0.778414</td>\n",
       "      <td>8.41954</td>\n",
       "      <td>1.28229</td>\n",
       "      <td>0.0661145</td>\n",
       "      <td>-23.9201</td>\n",
       "      <td>49699</td>\n",
       "      <td>21.0685</td>\n",
       "      <td>0.778414</td>\n",
       "      <td>21.0188</td>\n",
       "      <td>21.2872</td>\n",
       "      <td>20.7565</td>\n",
       "      <td>20.9358</td>\n",
       "      <td>21.0316</td>\n",
       "      <td>-0.26844</td>\n",
       "      <td>0.53076</td>\n",
       "      <td>-0.1793</td>\n",
       "      <td>-0.09584</td>\n",
       "      <td>0.01282</td>\n",
       "    </tr>\n",
       "    <tr>\n",
       "      <th>3</th>\n",
       "      <td>39.6733</td>\n",
       "      <td>-0.417003</td>\n",
       "      <td>9.09312</td>\n",
       "      <td>2.37</td>\n",
       "      <td>0.148789</td>\n",
       "      <td>-26.8862</td>\n",
       "      <td>75574</td>\n",
       "      <td>39.6733</td>\n",
       "      <td>-0.417006</td>\n",
       "      <td>20.1253</td>\n",
       "      <td>19.4597</td>\n",
       "      <td>19.4202</td>\n",
       "      <td>19.338</td>\n",
       "      <td>19.0466</td>\n",
       "      <td>0.66561</td>\n",
       "      <td>0.03956</td>\n",
       "      <td>0.08212</td>\n",
       "      <td>0.2914</td>\n",
       "      <td>-1.07869</td>\n",
       "    </tr>\n",
       "    <tr>\n",
       "      <th>4</th>\n",
       "      <td>0.00806797</td>\n",
       "      <td>-0.240974</td>\n",
       "      <td>9.31616</td>\n",
       "      <td>2.163</td>\n",
       "      <td>0.109693</td>\n",
       "      <td>-26.1494</td>\n",
       "      <td>23208</td>\n",
       "      <td>0.00806669</td>\n",
       "      <td>-0.240971</td>\n",
       "      <td>20.3299</td>\n",
       "      <td>20.0662</td>\n",
       "      <td>19.8968</td>\n",
       "      <td>19.8698</td>\n",
       "      <td>19.6881</td>\n",
       "      <td>0.26365</td>\n",
       "      <td>0.16939</td>\n",
       "      <td>0.02705</td>\n",
       "      <td>0.1817</td>\n",
       "      <td>-0.64179</td>\n",
       "    </tr>\n",
       "  </tbody>\n",
       "</table>\n",
       "</div>"
      ],
      "text/plain": [
       "           ra       dec     Mass        z        ERR      M_i train_id  \\\n",
       "0   0.0067823  0.583213   8.3602   2.2711  0.0553846 -24.2618    23207   \n",
       "1      3.0712 -0.910459  9.45313    3.602  0.0963988 -27.2103    26906   \n",
       "2     21.0685  0.778414  8.41954  1.28229  0.0661145 -23.9201    49699   \n",
       "3     39.6733 -0.417003  9.09312     2.37   0.148789 -26.8862    75574   \n",
       "4  0.00806797 -0.240974  9.31616    2.163   0.109693 -26.1494    23208   \n",
       "\n",
       "           ra       dec   u_band   g_band   r_band   i_band   z_band       ug  \\\n",
       "0  0.00685539  0.583184  23.4436  22.2629  22.2395  22.1408  21.5903  1.18065   \n",
       "1      3.0712 -0.910459   28.658  20.9751  20.1096  20.0341    19.92  7.68294   \n",
       "2     21.0685  0.778414  21.0188  21.2872  20.7565  20.9358  21.0316 -0.26844   \n",
       "3     39.6733 -0.417006  20.1253  19.4597  19.4202   19.338  19.0466  0.66561   \n",
       "4  0.00806669 -0.240971  20.3299  20.0662  19.8968  19.8698  19.6881  0.26365   \n",
       "\n",
       "        gr       ri       iz       zu  \n",
       "0  0.02345  0.09865  0.55052 -1.85327  \n",
       "1  0.86548  0.07549  0.11414 -8.73805  \n",
       "2  0.53076  -0.1793 -0.09584  0.01282  \n",
       "3  0.03956  0.08212   0.2914 -1.07869  \n",
       "4  0.16939  0.02705   0.1817 -0.64179  "
      ]
     },
     "execution_count": 16,
     "metadata": {},
     "output_type": "execute_result"
    }
   ],
   "source": [
    "# remove repeat columns\n",
    "X_TRAIN = X_TRAIN.drop(columns = ['SDSS_ID', 'spec_mjd', 'ID'])\n",
    "X_TRAIN.head()"
   ]
  },
  {
   "cell_type": "code",
   "execution_count": 19,
   "metadata": {},
   "outputs": [],
   "source": [
    "# convert to numeric\n",
    "X_TRAIN = X_TRAIN.apply(pd.to_numeric, errors='ignore')"
   ]
  },
  {
   "cell_type": "markdown",
   "metadata": {},
   "source": [
    "After matching the data and cleaning black hole masses, we are left with 20549 objects total for the ML pipeline"
   ]
  },
  {
   "cell_type": "code",
   "execution_count": 21,
   "metadata": {},
   "outputs": [
    {
     "name": "stdout",
     "output_type": "stream",
     "text": [
      "(20549, 19)\n"
     ]
    }
   ],
   "source": [
    "print(X_TRAIN.shape)"
   ]
  },
  {
   "cell_type": "markdown",
   "metadata": {},
   "source": [
    "We split the data into an 85% training and 15% testing set."
   ]
  },
  {
   "cell_type": "code",
   "execution_count": 22,
   "metadata": {},
   "outputs": [
    {
     "data": {
      "text/plain": [
       "True"
      ]
     },
     "execution_count": 22,
     "metadata": {},
     "output_type": "execute_result"
    }
   ],
   "source": [
    "# split data\n",
    "train, test = train_test_split(X_TRAIN, test_size=0.15)\n",
    "\n",
    "# check\n",
    "test.shape[0] + train.shape[0] == X_TRAIN.shape[0]"
   ]
  },
  {
   "cell_type": "code",
   "execution_count": 23,
   "metadata": {},
   "outputs": [],
   "source": [
    "X_TRAIN.to_csv('../../data/matched_dr14.csv')"
   ]
  },
  {
   "cell_type": "code",
   "execution_count": 25,
   "metadata": {},
   "outputs": [],
   "source": [
    "train = train.dropna()\n",
    "test = test.dropna()\n",
    "train.to_csv('../../data/TRAIN_dr14.csv')\n",
    "test.to_csv('../../data/TEST_dr14.csv')"
   ]
  },
  {
   "cell_type": "code",
   "execution_count": null,
   "metadata": {},
   "outputs": [],
   "source": []
  }
 ],
 "metadata": {
  "kernelspec": {
   "display_name": "Python 3",
   "language": "python",
   "name": "python3"
  },
  "language_info": {
   "codemirror_mode": {
    "name": "ipython",
    "version": 3
   },
   "file_extension": ".py",
   "mimetype": "text/x-python",
   "name": "python",
   "nbconvert_exporter": "python",
   "pygments_lexer": "ipython3",
   "version": "3.8.5"
  }
 },
 "nbformat": 4,
 "nbformat_minor": 4
}
